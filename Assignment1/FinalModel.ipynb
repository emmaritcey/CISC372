{
  "nbformat": 4,
  "nbformat_minor": 0,
  "metadata": {
    "colab": {
      "name": "FinalModel.ipynb",
      "provenance": [],
      "collapsed_sections": [],
      "authorship_tag": "ABX9TyPRv9Md/ucAbYiqdAsjf3SF",
      "include_colab_link": true
    },
    "kernelspec": {
      "name": "python3",
      "display_name": "Python 3"
    }
  },
  "cells": [
    {
      "cell_type": "markdown",
      "metadata": {
        "id": "view-in-github",
        "colab_type": "text"
      },
      "source": [
        "<a href=\"https://colab.research.google.com/github/emmaritcey/CISC372/blob/master/Assignment1/FinalModel.ipynb\" target=\"_parent\"><img src=\"https://colab.research.google.com/assets/colab-badge.svg\" alt=\"Open In Colab\"/></a>"
      ]
    },
    {
      "cell_type": "code",
      "metadata": {
        "id": "XboMt59Mu03C",
        "colab_type": "code",
        "colab": {}
      },
      "source": [
        "# model training and tuning\n",
        "#import all necessary functions and packages\n",
        "import numpy as np\n",
        "from sklearn.compose import ColumnTransformer\n",
        "from sklearn.datasets import fetch_openml\n",
        "from sklearn.pipeline import Pipeline\n",
        "from sklearn.impute import SimpleImputer\n",
        "from sklearn.preprocessing import StandardScaler, OneHotEncoder\n",
        "#from sklearn.linear_model import LogisticRegression\n",
        "from sklearn.model_selection import GridSearchCV\n",
        "from xgboost.sklearn import XGBClassifier\n",
        "from sklearn.neural_network import MLPClassifier\n",
        "from sklearn.ensemble import RandomForestClassifier\n",
        "from sklearn.ensemble import VotingClassifier\n",
        "\n",
        "np.random.seed(0)"
      ],
      "execution_count": 0,
      "outputs": []
    },
    {
      "cell_type": "code",
      "metadata": {
        "id": "5YLohDqbvHvB",
        "colab_type": "code",
        "colab": {}
      },
      "source": [
        "# download data (-q is the quiet mode)\n",
        "! wget -q https://www.dropbox.com/s/lhb1awpi769bfdr/test.csv?dl=1 -O test.csv\n",
        "! wget -q https://www.dropbox.com/s/gudb5eunj700s7j/train.csv?dl=1 -O train.csv\n"
      ],
      "execution_count": 0,
      "outputs": []
    },
    {
      "cell_type": "code",
      "metadata": {
        "id": "k2zPvXKxu1et",
        "colab_type": "code",
        "outputId": "5bb1fc77-d23a-45a8-de80-fba514781f8a",
        "colab": {
          "base_uri": "https://localhost:8080/",
          "height": 299
        }
      },
      "source": [
        "import pandas as pd\n",
        "\n",
        "Xy_train = pd.read_csv('train.csv', engine='python') #read in training data\n",
        "X_train = Xy_train.drop(columns=['price_rating']) #drop price_rating column from training data\n",
        "y_train = Xy_train[['price_rating']] #use price_rating column as training data labels\n",
        "\n",
        "print('traning', len(X_train))\n",
        "Xy_train.price_rating.hist() #create histogram of training data labels"
      ],
      "execution_count": 0,
      "outputs": [
        {
          "output_type": "stream",
          "text": [
            "traning 7631\n"
          ],
          "name": "stdout"
        },
        {
          "output_type": "execute_result",
          "data": {
            "text/plain": [
              "<matplotlib.axes._subplots.AxesSubplot at 0x7fc3fc4bd240>"
            ]
          },
          "metadata": {
            "tags": []
          },
          "execution_count": 13
        },
        {
          "output_type": "display_data",
          "data": {
            "image/png": "[encoded data removed]",
            "text/plain": [
              "<Figure size 432x288 with 1 Axes>"
            ]
          },
          "metadata": {
            "tags": []
          }
        }
      ]
    },
    {
      "cell_type": "code",
      "metadata": {
        "id": "VQnYaJ9zu_X8",
        "colab_type": "code",
        "outputId": "f34d743c-68e3-497e-a808-24498692a953",
        "colab": {
          "base_uri": "https://localhost:8080/",
          "height": 34
        }
      },
      "source": [
        "X_test = pd.read_csv('test.csv', engine='python') #read in testing data\n",
        "testing_ids = X_test.Id \n",
        "print('testing', len(X_test))"
      ],
      "execution_count": 0,
      "outputs": [
        {
          "output_type": "stream",
          "text": [
            "testing 7632\n"
          ],
          "name": "stdout"
        }
      ]
    },
    {
      "cell_type": "code",
      "metadata": {
        "id": "0E0YlUTBvAus",
        "colab_type": "code",
        "colab": {}
      },
      "source": [
        "numeric_features = ['bedrooms', 'review_scores_location', 'accommodates', \n",
        "                    'beds', 'host_listings_count', 'minimum_nights', \n",
        "                    'maximum_nights', 'number_of_reviews', 'review_scores_rating',\n",
        "                    'review_scores_accuracy', 'review_scores_cleanliness',\n",
        "                    'review_scores_checkin', 'review_scores_communication',\n",
        "                    'review_scores_location', 'review_scores_value',\n",
        "                    'reviews_per_month']\n",
        "#for numeric features replace all missing values with median of column and use StandardScaler as standardizing method\n",
        "numeric_transformer = Pipeline(steps=[\n",
        "    ('imputer', SimpleImputer(strategy='median')),\n",
        "    ('scaler', StandardScaler())])\n",
        "\n",
        "categorical_features = [ 'property_type', 'is_business_travel_ready', \n",
        "                        'room_type', 'host_response_time', 'host_is_superhost',\n",
        "                        'host_identity_verified', 'neighbourhood_cleansed',\n",
        "                        'instant_bookable', 'cancellation_policy',\n",
        "                        'require_guest_phone_verification']\n",
        "categorical_transformer = Pipeline(steps=[\n",
        "    ('imputer', SimpleImputer(strategy='constant', fill_value='missing')),\n",
        "    ('onehot', OneHotEncoder(handle_unknown='ignore'))])"
      ],
      "execution_count": 0,
      "outputs": []
    },
    {
      "cell_type": "code",
      "metadata": {
        "id": "YhgDf-3cvbuP",
        "colab_type": "code",
        "colab": {}
      },
      "source": [
        "#create preprocessor that applies the two transformers above to applicable columns\n",
        "preprocessor = ColumnTransformer(\n",
        "    transformers=[\n",
        "        ('num', numeric_transformer, numeric_features),\n",
        "        ('cat', categorical_transformer, categorical_features)])"
      ],
      "execution_count": 0,
      "outputs": []
    },
    {
      "cell_type": "code",
      "metadata": {
        "id": "9dUO-NVswCto",
        "colab_type": "code",
        "colab": {}
      },
      "source": [
        "#create new training and testing dataframes only containing features above\n",
        "X_train = X_train[[*numeric_features, *categorical_features]]\n",
        "X_test = X_test[[*numeric_features, *categorical_features]]"
      ],
      "execution_count": 0,
      "outputs": []
    },
    {
      "cell_type": "code",
      "metadata": {
        "id": "BG9KvHEPvdUl",
        "colab_type": "code",
        "colab": {}
      },
      "source": [
        "#create final pipeline\n",
        "xgb_pipe = Pipeline(steps=[('preprocessor', preprocessor),\n",
        "                      ('xgb', XGBClassifier(\n",
        "                          objective='multi:softmax', seed=1))])"
      ],
      "execution_count": 0,
      "outputs": []
    },
    {
      "cell_type": "code",
      "metadata": {
        "id": "mSv3460awQ-q",
        "colab_type": "code",
        "outputId": "c6bb821d-fe0e-4893-f1e7-875ca5b176b4",
        "colab": {
          "base_uri": "https://localhost:8080/",
          "height": 173
        }
      },
      "source": [
        "# `__` denotes attribute \n",
        "# (e.g. regressor__n_estimators means the `n_estimators` param for `regressor`\n",
        "#  which is our xgb)\n",
        "xgb_params = {\n",
        "    'preprocessor__num__imputer__strategy': ['mean'],\n",
        "    'xgb__n_estimators': [200],\n",
        "    'xgb__learning_rate': [0.1],\n",
        "    'xgb__max_depth':[5],\n",
        "    'xgb__min_child_weight': [1],\n",
        "    'xgb__gamma': [0.2],\n",
        "    'xgb__colsample_bytree': [0.8],\n",
        "    'xgb__subsample': [0.8]\n",
        "}\n",
        "\n",
        "xgb_gs = GridSearchCV(\n",
        "    xgb_pipe, xgb_params, cv=5, verbose=3, n_jobs=2, \n",
        "    scoring='accuracy')\n",
        "xgb_gs.fit(X_train, y_train)\n",
        "print('best score {}'.format(xgb_gs.best_score_))"
      ],
      "execution_count": 0,
      "outputs": [
        {
          "output_type": "stream",
          "text": [
            "Fitting 5 folds for each of 1 candidates, totalling 5 fits\n"
          ],
          "name": "stdout"
        },
        {
          "output_type": "stream",
          "text": [
            "[Parallel(n_jobs=2)]: Using backend LokyBackend with 2 concurrent workers.\n",
            "[Parallel(n_jobs=2)]: Done   5 out of   5 | elapsed:   23.3s finished\n",
            "/usr/local/lib/python3.6/dist-packages/sklearn/preprocessing/_label.py:235: DataConversionWarning: A column-vector y was passed when a 1d array was expected. Please change the shape of y to (n_samples, ), for example using ravel().\n",
            "  y = column_or_1d(y, warn=True)\n",
            "/usr/local/lib/python3.6/dist-packages/sklearn/preprocessing/_label.py:268: DataConversionWarning: A column-vector y was passed when a 1d array was expected. Please change the shape of y to (n_samples, ), for example using ravel().\n",
            "  y = column_or_1d(y, warn=True)\n"
          ],
          "name": "stderr"
        },
        {
          "output_type": "stream",
          "text": [
            "best score 0.741057384724586\n"
          ],
          "name": "stdout"
        }
      ]
    },
    {
      "cell_type": "code",
      "metadata": {
        "id": "-3BCECILw1Mi",
        "colab_type": "code",
        "outputId": "9eaaa8a9-2c50-46e6-c2de-55629914ac2d",
        "colab": {
          "base_uri": "https://localhost:8080/",
          "height": 54
        }
      },
      "source": [
        "#save best model\n",
        "xgb_best = xgb_gs.best_estimator_\n",
        "#see best parameters values\n",
        "print(xgb_gs.best_params_)"
      ],
      "execution_count": 0,
      "outputs": [
        {
          "output_type": "stream",
          "text": [
            "{'preprocessor__num__imputer__strategy': 'mean', 'xgb__colsample_bytree': 0.8, 'xgb__gamma': 0.2, 'xgb__learning_rate': 0.1, 'xgb__max_depth': 5, 'xgb__min_child_weight': 1, 'xgb__n_estimators': 200, 'xgb__subsample': 0.8}\n"
          ],
          "name": "stdout"
        }
      ]
    },
    {
      "cell_type": "markdown",
      "metadata": {
        "id": "QhFvGRZ4YxEf",
        "colab_type": "text"
      },
      "source": [
        "**Neural Network** \n"
      ]
    },
    {
      "cell_type": "code",
      "metadata": {
        "id": "zagjI-fdw9qQ",
        "colab_type": "code",
        "colab": {}
      },
      "source": [
        "#create final Neural network pipeline\n",
        "nn_pipe = Pipeline(steps=[('preprocessor', preprocessor), ('nn', MLPClassifier())])"
      ],
      "execution_count": 0,
      "outputs": []
    },
    {
      "cell_type": "code",
      "metadata": {
        "id": "e_uBpyEPxGTh",
        "colab_type": "code",
        "colab": {}
      },
      "source": [
        "#create a dictionary of all values we want to test for n_estimators\n",
        "nn_params = {\"nn__activation\": [\"logistic\"],\n",
        "             \"nn__solver\": [\"adam\"],\n",
        "             \"nn__alpha\": [0.04],\n",
        "             \"nn__max_iter\": [300],\n",
        "             \"nn__learning_rate\": ['adaptive']\n",
        "             }\n",
        "#use gridsearch to test all values for n_estimators\n",
        "nn_gs = GridSearchCV(nn_pipe, nn_params, cv=5, verbose=3, n_jobs=2, scoring='accuracy')"
      ],
      "execution_count": 0,
      "outputs": []
    },
    {
      "cell_type": "code",
      "metadata": {
        "id": "-rFHKJFIxNnR",
        "colab_type": "code",
        "outputId": "e84eb623-53e7-4000-f589-69ed2d955060",
        "colab": {
          "base_uri": "https://localhost:8080/",
          "height": 139
        }
      },
      "source": [
        "#fit model to training data\n",
        "nn_gs.fit(X_train, y_train) \n",
        "print('best score {}'.format(nn_gs.best_score_))"
      ],
      "execution_count": 0,
      "outputs": [
        {
          "output_type": "stream",
          "text": [
            "Fitting 5 folds for each of 1 candidates, totalling 5 fits\n"
          ],
          "name": "stdout"
        },
        {
          "output_type": "stream",
          "text": [
            "[Parallel(n_jobs=2)]: Using backend LokyBackend with 2 concurrent workers.\n",
            "[Parallel(n_jobs=2)]: Done   5 out of   5 | elapsed:  1.3min finished\n",
            "/usr/local/lib/python3.6/dist-packages/sklearn/neural_network/_multilayer_perceptron.py:934: DataConversionWarning: A column-vector y was passed when a 1d array was expected. Please change the shape of y to (n_samples, ), for example using ravel().\n",
            "  y = column_or_1d(y, warn=True)\n"
          ],
          "name": "stderr"
        },
        {
          "output_type": "stream",
          "text": [
            "best score 0.7248077205323831\n"
          ],
          "name": "stdout"
        }
      ]
    },
    {
      "cell_type": "code",
      "metadata": {
        "id": "BnObhuBOxfPo",
        "colab_type": "code",
        "outputId": "c694a8e2-4fc5-4026-c59d-51767bf8485f",
        "colab": {
          "base_uri": "https://localhost:8080/",
          "height": 54
        }
      },
      "source": [
        "#save the best model and view best parameter values\n",
        "nn_best = nn_gs.best_estimator_\n",
        "print(nn_gs.best_params_)"
      ],
      "execution_count": 0,
      "outputs": [
        {
          "output_type": "stream",
          "text": [
            "{'nn__activation': 'logistic', 'nn__alpha': 0.04, 'nn__learning_rate': 'adaptive', 'nn__max_iter': 300, 'nn__solver': 'adam'}\n"
          ],
          "name": "stdout"
        }
      ]
    },
    {
      "cell_type": "markdown",
      "metadata": {
        "id": "0J3U8IWViWMn",
        "colab_type": "text"
      },
      "source": [
        "**Random Forest**"
      ]
    },
    {
      "cell_type": "code",
      "metadata": {
        "id": "BvcbIs8sxi-A",
        "colab_type": "code",
        "colab": {}
      },
      "source": [
        "#apply preprocessor and xgboost as classifier\n",
        "rf_pipe = Pipeline(steps=[('preprocessor', preprocessor), ('rf', RandomForestClassifier())])"
      ],
      "execution_count": 0,
      "outputs": []
    },
    {
      "cell_type": "code",
      "metadata": {
        "id": "4-2mG6u4yMBI",
        "colab_type": "code",
        "colab": {}
      },
      "source": [
        "#create a dictionary of all values we want to test for n_estimators\n",
        "rf_params = {\"rf__n_estimators\": [500],\n",
        "             \"rf__max_depth\": [60],\n",
        "             \"rf__min_samples_split\": [8],\n",
        "             \"rf__min_samples_leaf\": [1]\n",
        "             }\n",
        "#use gridsearch to test all values for n_estimators\n",
        "rf_gs = GridSearchCV(rf_pipe, rf_params, cv=5, verbose=3, n_jobs=2, scoring='accuracy')\n"
      ],
      "execution_count": 0,
      "outputs": []
    },
    {
      "cell_type": "code",
      "metadata": {
        "id": "sIp7L_IEyp33",
        "colab_type": "code",
        "outputId": "cbb8d65a-f53d-4832-9393-8c100f91c223",
        "colab": {
          "base_uri": "https://localhost:8080/",
          "height": 139
        }
      },
      "source": [
        "#fit model to training data\n",
        "rf_gs.fit(X_train, y_train)\n",
        "print('best score {}'.format(rf_gs.best_score_))"
      ],
      "execution_count": 0,
      "outputs": [
        {
          "output_type": "stream",
          "text": [
            "Fitting 5 folds for each of 1 candidates, totalling 5 fits\n"
          ],
          "name": "stdout"
        },
        {
          "output_type": "stream",
          "text": [
            "[Parallel(n_jobs=2)]: Using backend LokyBackend with 2 concurrent workers.\n",
            "[Parallel(n_jobs=2)]: Done   5 out of   5 | elapsed:  1.3min finished\n",
            "/usr/local/lib/python3.6/dist-packages/sklearn/pipeline.py:354: DataConversionWarning: A column-vector y was passed when a 1d array was expected. Please change the shape of y to (n_samples,), for example using ravel().\n",
            "  self._final_estimator.fit(Xt, y, **fit_params)\n"
          ],
          "name": "stderr"
        },
        {
          "output_type": "stream",
          "text": [
            "best score 0.7293948764956857\n"
          ],
          "name": "stdout"
        }
      ]
    },
    {
      "cell_type": "code",
      "metadata": {
        "id": "EwnnmIB4y_UG",
        "colab_type": "code",
        "outputId": "a18f1702-8681-4ab6-e44c-2f2d851931a6",
        "colab": {
          "base_uri": "https://localhost:8080/",
          "height": 54
        }
      },
      "source": [
        "rf_best = rf_gs.best_estimator_\n",
        "print(rf_gs.best_params_)"
      ],
      "execution_count": 0,
      "outputs": [
        {
          "output_type": "stream",
          "text": [
            "{'rf__max_depth': 60, 'rf__min_samples_leaf': 1, 'rf__min_samples_split': 8, 'rf__n_estimators': 500}\n"
          ],
          "name": "stdout"
        }
      ]
    },
    {
      "cell_type": "markdown",
      "metadata": {
        "id": "FaNE-sIez8tD",
        "colab_type": "text"
      },
      "source": [
        "**ADD VOTING CLASSIFIER** "
      ]
    },
    {
      "cell_type": "code",
      "metadata": {
        "id": "YCXbv29Rzske",
        "colab_type": "code",
        "colab": {}
      },
      "source": [
        "#create dictionary of the three models\n",
        "estimators = [('xgb',xgb_best), ('nn', nn_best), ('rf', rf_best)]"
      ],
      "execution_count": 0,
      "outputs": []
    },
    {
      "cell_type": "code",
      "metadata": {
        "id": "3Uaib6tH0xv9",
        "colab_type": "code",
        "colab": {}
      },
      "source": [
        "#create voting classifier with the three models\n",
        "ensemble = VotingClassifier(estimators, voting='hard')"
      ],
      "execution_count": 0,
      "outputs": []
    },
    {
      "cell_type": "code",
      "metadata": {
        "id": "-JG59Kk108RY",
        "colab_type": "code",
        "outputId": "c474764d-752c-4b5f-af01-8c13e12392ed",
        "colab": {
          "base_uri": "https://localhost:8080/",
          "height": 122
        }
      },
      "source": [
        "#fit model to training data\n",
        "ensemble.fit(X_train, y_train)\n",
        "ensemble.score(X_train, y_train)"
      ],
      "execution_count": 0,
      "outputs": [
        {
          "output_type": "stream",
          "text": [
            "/usr/local/lib/python3.6/dist-packages/sklearn/preprocessing/_label.py:235: DataConversionWarning: A column-vector y was passed when a 1d array was expected. Please change the shape of y to (n_samples, ), for example using ravel().\n",
            "  y = column_or_1d(y, warn=True)\n",
            "/usr/local/lib/python3.6/dist-packages/sklearn/preprocessing/_label.py:268: DataConversionWarning: A column-vector y was passed when a 1d array was expected. Please change the shape of y to (n_samples, ), for example using ravel().\n",
            "  y = column_or_1d(y, warn=True)\n"
          ],
          "name": "stderr"
        },
        {
          "output_type": "execute_result",
          "data": {
            "text/plain": [
              "0.8584720220154632"
            ]
          },
          "metadata": {
            "tags": []
          },
          "execution_count": 119
        }
      ]
    },
    {
      "cell_type": "code",
      "metadata": {
        "id": "dKviyshj1sG1",
        "colab_type": "code",
        "colab": {}
      },
      "source": [
        "#make predictions of test data classes\n",
        "y_pred = ensemble.predict(X_test)"
      ],
      "execution_count": 0,
      "outputs": []
    },
    {
      "cell_type": "code",
      "metadata": {
        "id": "pDj5aY_l2PBb",
        "colab_type": "code",
        "colab": {}
      },
      "source": [
        "#save predictions\n",
        "pd.DataFrame(\n",
        "    {'Id': testing_ids, 'price_rating':y_pred}).to_csv('Emma_submission3.csv', index=False)"
      ],
      "execution_count": 0,
      "outputs": []
    }
  ]
}